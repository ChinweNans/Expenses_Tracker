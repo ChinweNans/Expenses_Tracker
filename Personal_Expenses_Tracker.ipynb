{
 "cells": [
  {
   "cell_type": "markdown",
   "id": "ecb55f78-2b93-49bb-9c89-55413b1ab4fa",
   "metadata": {},
   "source": [
    "### Personal Expenses Tracker"
   ]
  },
  {
   "cell_type": "markdown",
   "id": "c220e054-8bdf-4e8e-812c-4e330ab082be",
   "metadata": {},
   "source": [
    "## what are we tracking????"
   ]
  },
  {
   "cell_type": "markdown",
   "id": "5d4834f4-923b-4d9a-84ed-c29fcd7ec3a0",
   "metadata": {},
   "source": [
    "### Create Variables"
   ]
  },
  {
   "cell_type": "code",
   "execution_count": 1,
   "id": "463c3142-c83b-4986-b25a-335f6e530d25",
   "metadata": {},
   "outputs": [],
   "source": [
    "user = \"Jimmy\" #str\n",
    "current_month = \"August 2025\"\n",
    "currency = '$'\n",
    "budget = 500.00\n",
    "num_days_in_month = 31\n",
    "is_budget_set = True"
   ]
  },
  {
   "cell_type": "code",
   "execution_count": 2,
   "id": "f8403473-cacd-435e-b87e-77193a6cd9c7",
   "metadata": {},
   "outputs": [
    {
     "name": "stdout",
     "output_type": "stream",
     "text": [
      "Hello Jimmy\n"
     ]
    }
   ],
   "source": [
    "print('Hello', user)"
   ]
  },
  {
   "cell_type": "code",
   "execution_count": 3,
   "id": "2baffd32-c9e6-4e98-8f16-88af4aee6c48",
   "metadata": {},
   "outputs": [
    {
     "name": "stdout",
     "output_type": "stream",
     "text": [
      "Budget for August 2025 : 500.0\n"
     ]
    }
   ],
   "source": [
    "print('Budget for', current_month, ':', budget)"
   ]
  },
  {
   "cell_type": "code",
   "execution_count": 4,
   "id": "9f2925eb-003e-4228-89db-f2324260f7bd",
   "metadata": {},
   "outputs": [],
   "source": [
    "greetings = \"Hello Everyone, Welcome to Python\""
   ]
  },
  {
   "cell_type": "code",
   "execution_count": null,
   "id": "638bbb28-bd98-4a6d-a2e8-937005d75b6f",
   "metadata": {},
   "outputs": [],
   "source": []
  },
  {
   "cell_type": "markdown",
   "id": "62050f81-b9d8-4225-95fd-6b74022e70a8",
   "metadata": {},
   "source": [
    "## A single expense"
   ]
  },
  {
   "cell_type": "code",
   "execution_count": 5,
   "id": "40b24b09-a961-4c2f-ba14-a83c5fdcada6",
   "metadata": {},
   "outputs": [],
   "source": [
    "item = 'Rent'\n",
    "amount = 200.00\n",
    "category = 'Housing'\n",
    "is_necessary = True"
   ]
  },
  {
   "cell_type": "code",
   "execution_count": null,
   "id": "6cbfbe80-84d8-464e-b0f4-7f1877b76eba",
   "metadata": {},
   "outputs": [],
   "source": []
  },
  {
   "cell_type": "code",
   "execution_count": null,
   "id": "979e02ec-d3bc-4f72-85c6-a20f42d79f68",
   "metadata": {},
   "outputs": [],
   "source": []
  },
  {
   "cell_type": "code",
   "execution_count": 6,
   "id": "09f66290-34b6-47e7-950e-b4421d3aedd6",
   "metadata": {},
   "outputs": [],
   "source": [
    "items = ['Rent', 'Electricity', 'Clothes', 'data bundle', 'KFC', 'Netflix']\n",
    "prices = [200.00, 40.00, 50.00, 20, 10,15]\n",
    "categories = ['Housing', 'Utility', 'Basic', 'Utility', 'Food', 'Entertainment']\n",
    "necessary = [True, True, True, True, False, False]"
   ]
  },
  {
   "cell_type": "code",
   "execution_count": 7,
   "id": "a1deaab6-6678-41a7-ba13-31be0b182961",
   "metadata": {},
   "outputs": [
    {
     "data": {
      "text/plain": [
       "[200.0, 40.0, 50.0, 20, 10, 15]"
      ]
     },
     "execution_count": 7,
     "metadata": {},
     "output_type": "execute_result"
    }
   ],
   "source": [
    "prices"
   ]
  },
  {
   "cell_type": "code",
   "execution_count": 8,
   "id": "b2d3dd9a-5260-4271-a426-8f148e0de11b",
   "metadata": {},
   "outputs": [
    {
     "data": {
      "text/plain": [
       "335.0"
      ]
     },
     "execution_count": 8,
     "metadata": {},
     "output_type": "execute_result"
    }
   ],
   "source": [
    "total_expenses = sum(prices)\n",
    "total_expenses"
   ]
  },
  {
   "cell_type": "code",
   "execution_count": 9,
   "id": "1c8e4df1-7c9b-486a-ae0b-d3cda54b4916",
   "metadata": {},
   "outputs": [
    {
     "data": {
      "text/plain": [
       "165.0"
      ]
     },
     "execution_count": 9,
     "metadata": {},
     "output_type": "execute_result"
    }
   ],
   "source": [
    "closing_balance = budget - total_expenses\n",
    "closing_balance"
   ]
  },
  {
   "cell_type": "code",
   "execution_count": 13,
   "id": "5704c1e6-cb0c-4772-8dd1-905379ec8ef7",
   "metadata": {},
   "outputs": [],
   "source": [
    "num_of_item = len(items)"
   ]
  },
  {
   "cell_type": "code",
   "execution_count": null,
   "id": "16639ad5-d4f7-450e-a37b-5cbe4f10dcc0",
   "metadata": {},
   "outputs": [],
   "source": []
  },
  {
   "cell_type": "code",
   "execution_count": null,
   "id": "e7df647e-6914-47f5-839e-142ae1fba467",
   "metadata": {},
   "outputs": [],
   "source": []
  },
  {
   "cell_type": "code",
   "execution_count": 14,
   "id": "1035852c-6508-490f-bfff-d744009ccfa9",
   "metadata": {},
   "outputs": [
    {
     "name": "stdout",
     "output_type": "stream",
     "text": [
      "===================================\n",
      "      Expenses Tracker\n",
      "===================================\n",
      "Owner                  Jimmy\n",
      "Period                 August 2025\n",
      "-----------------------------------\n",
      "Currency               $\n",
      "Starting Balance       500.0\n",
      "Total Expenses         200.0\n",
      "-----------------------------------\n",
      "Closing Balance        165.0\n",
      "Transactions           6\n",
      "===================================\n",
      "      See you next month\n",
      "===================================\n"
     ]
    }
   ],
   "source": [
    "print(\"=\"* 35)\n",
    "print(\"      Expenses Tracker\")\n",
    "print(\"=\"* 35)\n",
    "print(\"Owner\", '                ', user)\n",
    "print(\"Period\", '               ', current_month)\n",
    "print(\"-\"* 35)\n",
    "print(\"Currency\", '             ', currency)\n",
    "print(\"Starting Balance\", '     ',budget)\n",
    "print(\"Total Expenses\", '       ',amount)\n",
    "print(\"-\"* 35)\n",
    "print(\"Closing Balance\", '      ',closing_balance)\n",
    "print(\"Transactions\", '         ',num_of_item)\n",
    "print(\"=\"* 35)\n",
    "print(\"      See you next month\")\n",
    "print(\"=\"* 35)"
   ]
  },
  {
   "cell_type": "code",
   "execution_count": null,
   "id": "c037bd83-18d4-4e96-88ef-bb4338870fd9",
   "metadata": {},
   "outputs": [],
   "source": []
  }
 ],
 "metadata": {
  "kernelspec": {
   "display_name": "Python 3 (ipykernel)",
   "language": "python",
   "name": "python3"
  },
  "language_info": {
   "codemirror_mode": {
    "name": "ipython",
    "version": 3
   },
   "file_extension": ".py",
   "mimetype": "text/x-python",
   "name": "python",
   "nbconvert_exporter": "python",
   "pygments_lexer": "ipython3",
   "version": "3.12.11"
  }
 },
 "nbformat": 4,
 "nbformat_minor": 5
}
